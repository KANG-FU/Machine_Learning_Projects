{
 "cells": [
  {
   "cell_type": "markdown",
   "id": "793bd0d4-c156-4af7-8fb7-6ed8b35ce99b",
   "metadata": {},
   "source": [
    "# Prediction of the Destination Countries of Airbnb Users"
   ]
  },
  {
   "cell_type": "markdown",
   "id": "7ab7a92b-4243-4a38-a669-963f6c21b4ab",
   "metadata": {},
   "source": [
    "## 1. Background\n",
    "About this Dataset,In this challenge, you are given a list of users along with their demographics, web session records, and some summary statistics. You are asked to predict which country a new user’s first booking destination will be. All the users in this dataset are from the USA.\n",
    "\n",
    "There are 12 possible outcomes of the destination country: ‘US’, ‘FR’, ‘CA’, ‘GB’, ‘ES’, ‘IT’, ‘PT’, ‘NL’,‘DE’, ‘AU’, ‘NDF’ (no destination found), and ‘other’. Please note that ‘NDF’ is different from ‘other’ because ‘other’ means there was a booking, but is to a country not included in the list, while ‘NDF’ means there wasn’t a booking."
   ]
  },
  {
   "cell_type": "markdown",
   "id": "0c3dda43-c3d8-472b-a79a-38c986e2f32b",
   "metadata": {},
   "source": [
    "## 2. Data Description\n",
    "In total, there are 6 csv files in data folder.\n",
    "\n",
    "1. train_users_2.csv - the training set of users \n",
    "2. test_users.csv - the test set of users\n",
    "- id: user id \n",
    "- date_account_created: the date of account creation\n",
    "- timestamp_first_active: timestamp of the first activity, note that it can be earlier than date_account_created or date_first_booking because a user can search before signing up\n",
    "- date_first_booking: date of first booking\n",
    "- gender\n",
    "- age\n",
    "- signup_method\n",
    "- signup_flow: the page a user came to signup up from\n",
    "- language: international language preference\n",
    "- affiliate_channel: what kind of paid marketing\n",
    "- affiliate_provider: where the marketing is e.g. google, craigslist, other\n",
    "- first_affiliate_tracked: whats the first marketing the user interacted with before the signing up\n",
    "- signup_app\n",
    "- first_device_type\n",
    "- first_browser\n",
    "- country_destination: this is the target variable you are to predict\n",
    "\n",
    "3. sessions.csv - web sessions log for users\n",
    "- user_id: to be joined with the column ‘id’ in users table\n",
    "- action\n",
    "- action_type\n",
    "- action_detail\n",
    "- device_type\n",
    "- secs_elapsed\n",
    "4. sample_submission.csv - correct format for submitting your predictions\n"
   ]
  },
  {
   "cell_type": "markdown",
   "id": "3d53f187-5343-4dbf-bfc4-a8cd706f60ce",
   "metadata": {},
   "source": [
    "## 3. EDA"
   ]
  },
  {
   "cell_type": "markdown",
   "id": "94d360d7-54b6-4f2c-a463-a4032878ab45",
   "metadata": {},
   "source": [
    "### 3.1 Load the data"
   ]
  },
  {
   "cell_type": "code",
   "execution_count": 1,
   "id": "7af1eecc-8ec9-48f6-b5c8-ecb4a96744a1",
   "metadata": {},
   "outputs": [],
   "source": [
    "import numpy as np\n",
    "import pandas as pd\n",
    "import matplotlib.pyplot as plt\n",
    "import sklearn as sk\n",
    "%matplotlib inline\n",
    "import datetime\n",
    "import os\n",
    "import seaborn as sns#数据可视化\n",
    "from datetime import date\n",
    "from sklearn.preprocessing import LabelEncoder\n",
    "from sklearn.preprocessing import StandardScaler\n",
    "from sklearn.preprocessing import LabelBinarizer\n",
    "import pickle #用于存储模型\n",
    "import seaborn as sns\n",
    "from sklearn.metrics import *\n",
    "from sklearn.model_selection import *\n",
    "\n",
    "import warnings\n",
    "warnings.filterwarnings(\"ignore\")"
   ]
  },
  {
   "cell_type": "code",
   "execution_count": 2,
   "id": "2c86957e-f850-4c84-bcfa-6e763ef9fa72",
   "metadata": {},
   "outputs": [
    {
     "data": {
      "text/html": [
       "<div>\n",
       "<style scoped>\n",
       "    .dataframe tbody tr th:only-of-type {\n",
       "        vertical-align: middle;\n",
       "    }\n",
       "\n",
       "    .dataframe tbody tr th {\n",
       "        vertical-align: top;\n",
       "    }\n",
       "\n",
       "    .dataframe thead th {\n",
       "        text-align: right;\n",
       "    }\n",
       "</style>\n",
       "<table border=\"1\" class=\"dataframe\">\n",
       "  <thead>\n",
       "    <tr style=\"text-align: right;\">\n",
       "      <th></th>\n",
       "      <th>id</th>\n",
       "      <th>date_account_created</th>\n",
       "      <th>timestamp_first_active</th>\n",
       "      <th>date_first_booking</th>\n",
       "      <th>gender</th>\n",
       "      <th>age</th>\n",
       "      <th>signup_method</th>\n",
       "      <th>signup_flow</th>\n",
       "      <th>language</th>\n",
       "      <th>affiliate_channel</th>\n",
       "      <th>affiliate_provider</th>\n",
       "      <th>first_affiliate_tracked</th>\n",
       "      <th>signup_app</th>\n",
       "      <th>first_device_type</th>\n",
       "      <th>first_browser</th>\n",
       "      <th>country_destination</th>\n",
       "    </tr>\n",
       "  </thead>\n",
       "  <tbody>\n",
       "    <tr>\n",
       "      <th>0</th>\n",
       "      <td>gxn3p5htnn</td>\n",
       "      <td>2010-06-28</td>\n",
       "      <td>20090319043255</td>\n",
       "      <td>NaN</td>\n",
       "      <td>-unknown-</td>\n",
       "      <td>NaN</td>\n",
       "      <td>facebook</td>\n",
       "      <td>0</td>\n",
       "      <td>en</td>\n",
       "      <td>direct</td>\n",
       "      <td>direct</td>\n",
       "      <td>untracked</td>\n",
       "      <td>Web</td>\n",
       "      <td>Mac Desktop</td>\n",
       "      <td>Chrome</td>\n",
       "      <td>NDF</td>\n",
       "    </tr>\n",
       "    <tr>\n",
       "      <th>1</th>\n",
       "      <td>820tgsjxq7</td>\n",
       "      <td>2011-05-25</td>\n",
       "      <td>20090523174809</td>\n",
       "      <td>NaN</td>\n",
       "      <td>MALE</td>\n",
       "      <td>38.0</td>\n",
       "      <td>facebook</td>\n",
       "      <td>0</td>\n",
       "      <td>en</td>\n",
       "      <td>seo</td>\n",
       "      <td>google</td>\n",
       "      <td>untracked</td>\n",
       "      <td>Web</td>\n",
       "      <td>Mac Desktop</td>\n",
       "      <td>Chrome</td>\n",
       "      <td>NDF</td>\n",
       "    </tr>\n",
       "    <tr>\n",
       "      <th>2</th>\n",
       "      <td>4ft3gnwmtx</td>\n",
       "      <td>2010-09-28</td>\n",
       "      <td>20090609231247</td>\n",
       "      <td>2010-08-02</td>\n",
       "      <td>FEMALE</td>\n",
       "      <td>56.0</td>\n",
       "      <td>basic</td>\n",
       "      <td>3</td>\n",
       "      <td>en</td>\n",
       "      <td>direct</td>\n",
       "      <td>direct</td>\n",
       "      <td>untracked</td>\n",
       "      <td>Web</td>\n",
       "      <td>Windows Desktop</td>\n",
       "      <td>IE</td>\n",
       "      <td>US</td>\n",
       "    </tr>\n",
       "    <tr>\n",
       "      <th>3</th>\n",
       "      <td>bjjt8pjhuk</td>\n",
       "      <td>2011-12-05</td>\n",
       "      <td>20091031060129</td>\n",
       "      <td>2012-09-08</td>\n",
       "      <td>FEMALE</td>\n",
       "      <td>42.0</td>\n",
       "      <td>facebook</td>\n",
       "      <td>0</td>\n",
       "      <td>en</td>\n",
       "      <td>direct</td>\n",
       "      <td>direct</td>\n",
       "      <td>untracked</td>\n",
       "      <td>Web</td>\n",
       "      <td>Mac Desktop</td>\n",
       "      <td>Firefox</td>\n",
       "      <td>other</td>\n",
       "    </tr>\n",
       "    <tr>\n",
       "      <th>4</th>\n",
       "      <td>87mebub9p4</td>\n",
       "      <td>2010-09-14</td>\n",
       "      <td>20091208061105</td>\n",
       "      <td>2010-02-18</td>\n",
       "      <td>-unknown-</td>\n",
       "      <td>41.0</td>\n",
       "      <td>basic</td>\n",
       "      <td>0</td>\n",
       "      <td>en</td>\n",
       "      <td>direct</td>\n",
       "      <td>direct</td>\n",
       "      <td>untracked</td>\n",
       "      <td>Web</td>\n",
       "      <td>Mac Desktop</td>\n",
       "      <td>Chrome</td>\n",
       "      <td>US</td>\n",
       "    </tr>\n",
       "  </tbody>\n",
       "</table>\n",
       "</div>"
      ],
      "text/plain": [
       "           id date_account_created  timestamp_first_active date_first_booking  \\\n",
       "0  gxn3p5htnn           2010-06-28          20090319043255                NaN   \n",
       "1  820tgsjxq7           2011-05-25          20090523174809                NaN   \n",
       "2  4ft3gnwmtx           2010-09-28          20090609231247         2010-08-02   \n",
       "3  bjjt8pjhuk           2011-12-05          20091031060129         2012-09-08   \n",
       "4  87mebub9p4           2010-09-14          20091208061105         2010-02-18   \n",
       "\n",
       "      gender   age signup_method  signup_flow language affiliate_channel  \\\n",
       "0  -unknown-   NaN      facebook            0       en            direct   \n",
       "1       MALE  38.0      facebook            0       en               seo   \n",
       "2     FEMALE  56.0         basic            3       en            direct   \n",
       "3     FEMALE  42.0      facebook            0       en            direct   \n",
       "4  -unknown-  41.0         basic            0       en            direct   \n",
       "\n",
       "  affiliate_provider first_affiliate_tracked signup_app first_device_type  \\\n",
       "0             direct               untracked        Web       Mac Desktop   \n",
       "1             google               untracked        Web       Mac Desktop   \n",
       "2             direct               untracked        Web   Windows Desktop   \n",
       "3             direct               untracked        Web       Mac Desktop   \n",
       "4             direct               untracked        Web       Mac Desktop   \n",
       "\n",
       "  first_browser country_destination  \n",
       "0        Chrome                 NDF  \n",
       "1        Chrome                 NDF  \n",
       "2            IE                  US  \n",
       "3       Firefox               other  \n",
       "4        Chrome                  US  "
      ]
     },
     "execution_count": 2,
     "metadata": {},
     "output_type": "execute_result"
    }
   ],
   "source": [
    "train = pd.read_csv('./data/train_users_2.csv')\n",
    "train.head()"
   ]
  },
  {
   "cell_type": "code",
   "execution_count": 3,
   "id": "ae5b4379-168f-4b0f-aab7-4821d4da191f",
   "metadata": {},
   "outputs": [
    {
     "data": {
      "text/html": [
       "<div>\n",
       "<style scoped>\n",
       "    .dataframe tbody tr th:only-of-type {\n",
       "        vertical-align: middle;\n",
       "    }\n",
       "\n",
       "    .dataframe tbody tr th {\n",
       "        vertical-align: top;\n",
       "    }\n",
       "\n",
       "    .dataframe thead th {\n",
       "        text-align: right;\n",
       "    }\n",
       "</style>\n",
       "<table border=\"1\" class=\"dataframe\">\n",
       "  <thead>\n",
       "    <tr style=\"text-align: right;\">\n",
       "      <th></th>\n",
       "      <th>id</th>\n",
       "      <th>date_account_created</th>\n",
       "      <th>timestamp_first_active</th>\n",
       "      <th>date_first_booking</th>\n",
       "      <th>gender</th>\n",
       "      <th>age</th>\n",
       "      <th>signup_method</th>\n",
       "      <th>signup_flow</th>\n",
       "      <th>language</th>\n",
       "      <th>affiliate_channel</th>\n",
       "      <th>affiliate_provider</th>\n",
       "      <th>first_affiliate_tracked</th>\n",
       "      <th>signup_app</th>\n",
       "      <th>first_device_type</th>\n",
       "      <th>first_browser</th>\n",
       "    </tr>\n",
       "  </thead>\n",
       "  <tbody>\n",
       "    <tr>\n",
       "      <th>0</th>\n",
       "      <td>5uwns89zht</td>\n",
       "      <td>2014-07-01</td>\n",
       "      <td>20140701000006</td>\n",
       "      <td>NaN</td>\n",
       "      <td>FEMALE</td>\n",
       "      <td>35.0</td>\n",
       "      <td>facebook</td>\n",
       "      <td>0</td>\n",
       "      <td>en</td>\n",
       "      <td>direct</td>\n",
       "      <td>direct</td>\n",
       "      <td>untracked</td>\n",
       "      <td>Moweb</td>\n",
       "      <td>iPhone</td>\n",
       "      <td>Mobile Safari</td>\n",
       "    </tr>\n",
       "    <tr>\n",
       "      <th>1</th>\n",
       "      <td>jtl0dijy2j</td>\n",
       "      <td>2014-07-01</td>\n",
       "      <td>20140701000051</td>\n",
       "      <td>NaN</td>\n",
       "      <td>-unknown-</td>\n",
       "      <td>NaN</td>\n",
       "      <td>basic</td>\n",
       "      <td>0</td>\n",
       "      <td>en</td>\n",
       "      <td>direct</td>\n",
       "      <td>direct</td>\n",
       "      <td>untracked</td>\n",
       "      <td>Moweb</td>\n",
       "      <td>iPhone</td>\n",
       "      <td>Mobile Safari</td>\n",
       "    </tr>\n",
       "    <tr>\n",
       "      <th>2</th>\n",
       "      <td>xx0ulgorjt</td>\n",
       "      <td>2014-07-01</td>\n",
       "      <td>20140701000148</td>\n",
       "      <td>NaN</td>\n",
       "      <td>-unknown-</td>\n",
       "      <td>NaN</td>\n",
       "      <td>basic</td>\n",
       "      <td>0</td>\n",
       "      <td>en</td>\n",
       "      <td>direct</td>\n",
       "      <td>direct</td>\n",
       "      <td>linked</td>\n",
       "      <td>Web</td>\n",
       "      <td>Windows Desktop</td>\n",
       "      <td>Chrome</td>\n",
       "    </tr>\n",
       "    <tr>\n",
       "      <th>3</th>\n",
       "      <td>6c6puo6ix0</td>\n",
       "      <td>2014-07-01</td>\n",
       "      <td>20140701000215</td>\n",
       "      <td>NaN</td>\n",
       "      <td>-unknown-</td>\n",
       "      <td>NaN</td>\n",
       "      <td>basic</td>\n",
       "      <td>0</td>\n",
       "      <td>en</td>\n",
       "      <td>direct</td>\n",
       "      <td>direct</td>\n",
       "      <td>linked</td>\n",
       "      <td>Web</td>\n",
       "      <td>Windows Desktop</td>\n",
       "      <td>IE</td>\n",
       "    </tr>\n",
       "    <tr>\n",
       "      <th>4</th>\n",
       "      <td>czqhjk3yfe</td>\n",
       "      <td>2014-07-01</td>\n",
       "      <td>20140701000305</td>\n",
       "      <td>NaN</td>\n",
       "      <td>-unknown-</td>\n",
       "      <td>NaN</td>\n",
       "      <td>basic</td>\n",
       "      <td>0</td>\n",
       "      <td>en</td>\n",
       "      <td>direct</td>\n",
       "      <td>direct</td>\n",
       "      <td>untracked</td>\n",
       "      <td>Web</td>\n",
       "      <td>Mac Desktop</td>\n",
       "      <td>Safari</td>\n",
       "    </tr>\n",
       "  </tbody>\n",
       "</table>\n",
       "</div>"
      ],
      "text/plain": [
       "           id date_account_created  timestamp_first_active  \\\n",
       "0  5uwns89zht           2014-07-01          20140701000006   \n",
       "1  jtl0dijy2j           2014-07-01          20140701000051   \n",
       "2  xx0ulgorjt           2014-07-01          20140701000148   \n",
       "3  6c6puo6ix0           2014-07-01          20140701000215   \n",
       "4  czqhjk3yfe           2014-07-01          20140701000305   \n",
       "\n",
       "   date_first_booking     gender   age signup_method  signup_flow language  \\\n",
       "0                 NaN     FEMALE  35.0      facebook            0       en   \n",
       "1                 NaN  -unknown-   NaN         basic            0       en   \n",
       "2                 NaN  -unknown-   NaN         basic            0       en   \n",
       "3                 NaN  -unknown-   NaN         basic            0       en   \n",
       "4                 NaN  -unknown-   NaN         basic            0       en   \n",
       "\n",
       "  affiliate_channel affiliate_provider first_affiliate_tracked signup_app  \\\n",
       "0            direct             direct               untracked      Moweb   \n",
       "1            direct             direct               untracked      Moweb   \n",
       "2            direct             direct                  linked        Web   \n",
       "3            direct             direct                  linked        Web   \n",
       "4            direct             direct               untracked        Web   \n",
       "\n",
       "  first_device_type  first_browser  \n",
       "0            iPhone  Mobile Safari  \n",
       "1            iPhone  Mobile Safari  \n",
       "2   Windows Desktop         Chrome  \n",
       "3   Windows Desktop             IE  \n",
       "4       Mac Desktop         Safari  "
      ]
     },
     "execution_count": 3,
     "metadata": {},
     "output_type": "execute_result"
    }
   ],
   "source": [
    "test = pd.read_csv('./data/test_users.csv')\n",
    "test.head()"
   ]
  },
  {
   "cell_type": "markdown",
   "id": "d7efe2e7-0dc0-46d1-89fb-eefd5950222e",
   "metadata": {},
   "source": [
    "### 3.2 Check the name of features"
   ]
  },
  {
   "cell_type": "code",
   "execution_count": 4,
   "id": "1a70b12e-6fc6-4b09-9a0c-0e31d8d140bb",
   "metadata": {},
   "outputs": [
    {
     "name": "stdout",
     "output_type": "stream",
     "text": [
      "the columns name of training dataset:\n",
      " Index(['id', 'date_account_created', 'timestamp_first_active',\n",
      "       'date_first_booking', 'gender', 'age', 'signup_method', 'signup_flow',\n",
      "       'language', 'affiliate_channel', 'affiliate_provider',\n",
      "       'first_affiliate_tracked', 'signup_app', 'first_device_type',\n",
      "       'first_browser', 'country_destination'],\n",
      "      dtype='object')\n",
      "the columns name of test dataset:\n",
      " Index(['id', 'date_account_created', 'timestamp_first_active',\n",
      "       'date_first_booking', 'gender', 'age', 'signup_method', 'signup_flow',\n",
      "       'language', 'affiliate_channel', 'affiliate_provider',\n",
      "       'first_affiliate_tracked', 'signup_app', 'first_device_type',\n",
      "       'first_browser'],\n",
      "      dtype='object')\n"
     ]
    }
   ],
   "source": [
    "print('the columns name of training dataset:\\n',train.columns)\n",
    "print('the columns name of test dataset:\\n',test.columns)"
   ]
  },
  {
   "cell_type": "markdown",
   "id": "ecb13f24-f1ad-4839-b3d8-8f8800398491",
   "metadata": {},
   "source": [
    "**Analysis**:\n",
    "1. The train dataset has one more features than test dataset, which is the prediction label(feature)\n",
    "2. country_destination is the prediction feature\n"
   ]
  },
  {
   "cell_type": "markdown",
   "id": "d882082b-6e65-427f-b430-9dd7f4876071",
   "metadata": {},
   "source": [
    "### 3.3 Check the information of the train dataset"
   ]
  },
  {
   "cell_type": "code",
   "execution_count": 5,
   "id": "14e70ce2-7811-4891-8713-29631bd76287",
   "metadata": {},
   "outputs": [
    {
     "name": "stdout",
     "output_type": "stream",
     "text": [
      "<class 'pandas.core.frame.DataFrame'>\n",
      "RangeIndex: 213451 entries, 0 to 213450\n",
      "Data columns (total 16 columns):\n",
      " #   Column                   Non-Null Count   Dtype  \n",
      "---  ------                   --------------   -----  \n",
      " 0   id                       213451 non-null  object \n",
      " 1   date_account_created     213451 non-null  object \n",
      " 2   timestamp_first_active   213451 non-null  int64  \n",
      " 3   date_first_booking       88908 non-null   object \n",
      " 4   gender                   213451 non-null  object \n",
      " 5   age                      125461 non-null  float64\n",
      " 6   signup_method            213451 non-null  object \n",
      " 7   signup_flow              213451 non-null  int64  \n",
      " 8   language                 213451 non-null  object \n",
      " 9   affiliate_channel        213451 non-null  object \n",
      " 10  affiliate_provider       213451 non-null  object \n",
      " 11  first_affiliate_tracked  207386 non-null  object \n",
      " 12  signup_app               213451 non-null  object \n",
      " 13  first_device_type        213451 non-null  object \n",
      " 14  first_browser            213451 non-null  object \n",
      " 15  country_destination      213451 non-null  object \n",
      "dtypes: float64(1), int64(2), object(13)\n",
      "memory usage: 26.1+ MB\n"
     ]
    }
   ],
   "source": [
    "train.info()"
   ]
  },
  {
   "cell_type": "markdown",
   "id": "0715acae-b2cd-4e12-bfde-21ee4d1b99b5",
   "metadata": {},
   "source": [
    "**Analysis**:\n",
    "1. There are 213451 entries and 16 features\n",
    "2. Some features contains many NaN values like data_first_booking. When it comes to feature extraction, it can be removed."
   ]
  },
  {
   "cell_type": "markdown",
   "id": "e8e67917-6b6c-4467-bb0b-ff5b979065ec",
   "metadata": {},
   "source": [
    "### 3.4 Feature Analysis"
   ]
  },
  {
   "cell_type": "markdown",
   "id": "128a95c6-ab2e-4e6c-aea1-23b1f08f89a3",
   "metadata": {},
   "source": [
    "#### 3.4.1 date_account_created"
   ]
  },
  {
   "cell_type": "code",
   "execution_count": 6,
   "id": "3f2d4610-e0bb-4390-afe7-66cff9239cda",
   "metadata": {},
   "outputs": [
    {
     "name": "stdout",
     "output_type": "stream",
     "text": [
      "2014-05-13    674\n",
      "2014-06-24    670\n",
      "2014-06-25    636\n",
      "2014-05-20    632\n",
      "2014-05-14    622\n",
      "Name: date_account_created, dtype: int64\n",
      "2010-03-09    1\n",
      "2010-01-28    1\n",
      "2010-01-31    1\n",
      "2010-04-11    1\n",
      "2010-06-18    1\n",
      "Name: date_account_created, dtype: int64\n"
     ]
    }
   ],
   "source": [
    "# check the the number of registration for each day (groupby day)\n",
    "print(train.date_account_created.value_counts().head())\n",
    "print(train.date_account_created.value_counts().tail())"
   ]
  },
  {
   "cell_type": "code",
   "execution_count": 7,
   "id": "edbf3efc-ed06-4e7a-8a41-f7a6af61c435",
   "metadata": {},
   "outputs": [
    {
     "data": {
      "text/plain": [
       "count         213451\n",
       "unique          1634\n",
       "top       2014-05-13\n",
       "freq             674\n",
       "Name: date_account_created, dtype: object"
      ]
     },
     "execution_count": 7,
     "metadata": {},
     "output_type": "execute_result"
    }
   ],
   "source": [
    "# alternative way to give infomration for this feature\n",
    "train.date_account_created.describe()"
   ]
  },
  {
   "cell_type": "markdown",
   "id": "43d13101-4bc5-4fb3-bba2-24b2c523abf4",
   "metadata": {},
   "source": [
    "Count is the total number. \\\n",
    "unique is the unique number in the feature.\\\n",
    "top is the date that has the most entries.\\\n",
    "freq is the number of entries for top."
   ]
  },
  {
   "cell_type": "code",
   "execution_count": 8,
   "id": "9a9a87d5-7fa5-4755-b70c-d7294d59980f",
   "metadata": {},
   "outputs": [
    {
     "data": {
      "text/plain": [
       "<matplotlib.legend.Legend at 0x1c5e57b8070>"
      ]
     },
     "execution_count": 8,
     "metadata": {},
     "output_type": "execute_result"
    },
    {
     "data": {
      "image/png": "[encoded data removed]",
      "text/plain": [
       "<Figure size 432x288 with 1 Axes>"
      ]
     },
     "metadata": {
      "needs_background": "light"
     },
     "output_type": "display_data"
    }
   ],
   "source": [
    "# get the information of user increase\n",
    "dac_train = train.date_account_created.value_counts()\n",
    "dac_test = test.date_account_created.value_counts()\n",
    "# transform to datetime\n",
    "dac_train_date = pd.to_datetime(dac_train.index)\n",
    "dac_test_date = pd.to_datetime(dac_test.index)\n",
    "# calculate the time interval from the beginning date of train dataset\n",
    "dac_train_day = dac_train_date - dac_train_date.min()\n",
    "dac_test_day = dac_test_date - dac_train_date.min()\n",
    "# use scatter plot \n",
    "plt.scatter(dac_train_day.days, dac_train.values, color = 'r', label = 'train_dataset')\n",
    "plt.scatter(dac_test_day.days, dac_test.values, color = 'b', label = 'test_dataset')\n",
    "plt.title(\"account created vs day\")\n",
    "plt.xlabel(\"Days\")\n",
    "plt.ylabel(\"Account created\")\n",
    "plt.legend(loc = \"upper left\")"
   ]
  },
  {
   "cell_type": "markdown",
   "id": "e2c36aba-e903-4bf9-987e-4dea474ff8f9",
   "metadata": {},
   "source": [
    "**Analysis**:\n",
    "1. x axis: the day diff from the registration date\n",
    "2. y axis: the registration number of that day\n",
    "3. The number of users increase rapidly."
   ]
  },
  {
   "cell_type": "markdown",
   "id": "ed5e4cac-013d-412d-9a57-ff4fcbd4d417",
   "metadata": {},
   "source": [
    "#### 3.4.2 timestamp_first_active"
   ]
  },
  {
   "cell_type": "code",
   "execution_count": 9,
   "id": "bb2759a8-be3b-45ab-a2dc-1905f1a749b4",
   "metadata": {},
   "outputs": [
    {
     "data": {
      "text/plain": [
       "0    20090319043255\n",
       "1    20090523174809\n",
       "2    20090609231247\n",
       "3    20091031060129\n",
       "4    20091208061105\n",
       "Name: timestamp_first_active, dtype: int64"
      ]
     },
     "execution_count": 9,
     "metadata": {},
     "output_type": "execute_result"
    }
   ],
   "source": [
    "train.timestamp_first_active.head()"
   ]
  },
  {
   "cell_type": "code",
   "execution_count": 10,
   "id": "b9296d16-f8cb-497b-9d42-eb7604a8a19a",
   "metadata": {},
   "outputs": [
    {
     "data": {
      "text/plain": [
       "array([1], dtype=int64)"
      ]
     },
     "execution_count": 10,
     "metadata": {},
     "output_type": "execute_result"
    }
   ],
   "source": [
    "# check the feature if there are any duplicate values\n",
    "train.timestamp_first_active.value_counts().unique()"
   ]
  },
  {
   "cell_type": "markdown",
   "id": "03b5056b-4551-4d67-bce8-0c1cf2cfaec7",
   "metadata": {},
   "source": [
    "1 shows all entries in this feature are unique"
   ]
  },
  {
   "cell_type": "code",
   "execution_count": 11,
   "id": "3068db5c-aea9-43f6-b246-9b34b86e8743",
   "metadata": {},
   "outputs": [
    {
     "data": {
      "text/plain": [
       "count                  213451\n",
       "unique                 213451\n",
       "top       2009-03-19 04:32:55\n",
       "freq                        1\n",
       "first     2009-03-19 04:32:55\n",
       "last      2014-06-30 23:58:24\n",
       "Name: timestamp_first_active, dtype: object"
      ]
     },
     "execution_count": 11,
     "metadata": {},
     "output_type": "execute_result"
    }
   ],
   "source": [
    "tfa_train_dt = train.timestamp_first_active.astype(str) \\\n",
    "            .apply(lambda x:  \n",
    "                            datetime.datetime(int(x[:4]),\n",
    "                                              int(x[4:6]), \n",
    "                                              int(x[6:8]), \n",
    "                                              int(x[8:10]), \n",
    "                                              int(x[10:12]),\n",
    "                                              int(x[12:])))\n",
    "tfa_train_dt.describe()"
   ]
  },
  {
   "cell_type": "markdown",
   "id": "52eed784-e2e3-405c-b53f-dd899ac9e7e7",
   "metadata": {},
   "source": [
    "#### 3.4.3 date_first_booking"
   ]
  },
  {
   "cell_type": "code",
   "execution_count": 12,
   "id": "d8b8da1f-1603-4209-94aa-4021d1a7c376",
   "metadata": {},
   "outputs": [
    {
     "name": "stdout",
     "output_type": "stream",
     "text": [
      "count          88908\n",
      "unique          1976\n",
      "top       2014-05-22\n",
      "freq             248\n",
      "Name: date_first_booking, dtype: object\n",
      "count    0.0\n",
      "mean     NaN\n",
      "std      NaN\n",
      "min      NaN\n",
      "25%      NaN\n",
      "50%      NaN\n",
      "75%      NaN\n",
      "max      NaN\n",
      "Name: date_first_booking, dtype: float64\n"
     ]
    }
   ],
   "source": [
    "print(train.date_first_booking.describe())\n",
    "print(test.date_first_booking.describe())"
   ]
  },
  {
   "cell_type": "markdown",
   "id": "592f6cc2-aa67-4613-822b-9dde6325aeae",
   "metadata": {},
   "source": [
    "**Analysis**:\n",
    "1. Since the count here do not consider the NaN values, this features has a large propotion of missing values\n",
    "2. All values in this feature are missing in test dataset\n",
    "3. Hence, we can delete this feature"
   ]
  },
  {
   "cell_type": "markdown",
   "id": "4bb66dbe-456b-4280-83b9-9acf7da37346",
   "metadata": {},
   "source": [
    "#### 3.4.4 date_first_booking"
   ]
  },
  {
   "cell_type": "markdown",
   "id": "edddeb23-d091-4eff-a7a8-4a80a12408cb",
   "metadata": {},
   "source": [
    "train.age.value_counts().head()"
   ]
  },
  {
   "cell_type": "markdown",
   "id": "4f5b44a2-3906-4968-84db-4eda504ad85a",
   "metadata": {},
   "source": [
    "Most users are around 30 years old."
   ]
  },
  {
   "cell_type": "code",
   "execution_count": 13,
   "id": "37be1218-66b5-4ebd-ae92-22e9f6d0d597",
   "metadata": {},
   "outputs": [
    {
     "data": {
      "text/plain": [
       "Text(0, 0.5, 'counts')"
      ]
     },
     "execution_count": 13,
     "metadata": {},
     "output_type": "execute_result"
    },
    {
     "data": {
      "image/png": "[encoded data removed]",
      "text/plain": [
       "<Figure size 720x360 with 2 Axes>"
      ]
     },
     "metadata": {
      "needs_background": "light"
     },
     "output_type": "display_data"
    }
   ],
   "source": [
    "# split all entries into 4 groups: missing values, too small age, reasonable age, too large age\n",
    "age_train =[train[train.age.isnull()].age.shape[0],\n",
    "            train.query('age < 15').age.shape[0],\n",
    "            train.query(\"age >= 15 & age <= 90\").age.shape[0],\n",
    "            train.query('age > 90').age.shape[0]]\n",
    "\n",
    "age_test = [test[test.age.isnull()].age.shape[0],\n",
    "            test.query('age < 15').age.shape[0],\n",
    "            test.query(\"age >= 15 & age <= 90\").age.shape[0],\n",
    "            test.query('age > 90').age.shape[0]]\n",
    "\n",
    "columns = ['Null', 'age < 15', 'age', 'age > 90']\n",
    "\n",
    "# plot\n",
    "fig, (ax1,ax2) = plt.subplots(1,2,sharex = True, sharey = True, figsize=(10,5))\n",
    "\n",
    "sns.barplot(columns, age_train, ax = ax1)\n",
    "sns.barplot(columns, age_test, ax = ax2)\n",
    "\n",
    "ax1.set_title('training dataset')\n",
    "ax2.set_title('testing dataset')\n",
    "ax1.set_ylabel('counts')"
   ]
  },
  {
   "cell_type": "markdown",
   "id": "f7f37bd3-92d4-4319-8786-5b9bd8036042",
   "metadata": {},
   "source": [
    "**Analysis**:\n",
    "1. Most users are in the range of normal ages(15-90). \n",
    "2. There are some missing values in this feature"
   ]
  },
  {
   "cell_type": "markdown",
   "id": "9b3e706e-9354-43c2-9a06-f3e091a71bdc",
   "metadata": {},
   "source": [
    "#### 3.4.5 Other features\n",
    "All these features are categorical abd they are visualised by bar plot"
   ]
  },
  {
   "cell_type": "code",
   "execution_count": 14,
   "id": "9a8384c2-bbba-409b-998f-7e1e5a336071",
   "metadata": {},
   "outputs": [],
   "source": [
    "def feature_barplot(feature, df_train = train, df_test = test, figsize=(10,5), rot = 90, saveimg = False): \n",
    "    feat_train = df_train[feature].value_counts()\n",
    "    feat_test = df_test[feature].value_counts()\n",
    "    fig_feature, (axis1,axis2) = plt.subplots(1,2,sharex=True, sharey = True, figsize = figsize)\n",
    "    sns.barplot(feat_train.index.values, feat_train.values, ax = axis1)\n",
    "    sns.barplot(feat_test.index.values, feat_test.values, ax = axis2)\n",
    "    axis1.set_xticklabels(axis1.xaxis.get_majorticklabels(), rotation = rot)\n",
    "    axis2.set_xticklabels(axis1.xaxis.get_majorticklabels(), rotation = rot)\n",
    "    axis1.set_title(feature + ' of training dataset')\n",
    "    axis2.set_title(feature + ' of test dataset')\n",
    "    axis1.set_ylabel('Counts')\n",
    "    plt.tight_layout()\n",
    "    if saveimg == True:\n",
    "        figname = feature + \".png\"\n",
    "        fig_feature.savefig(figname, dpi = 75)"
   ]
  },
  {
   "cell_type": "markdown",
   "id": "aa6ab0b2-3632-4f23-a4a4-a194ebc94e0c",
   "metadata": {},
   "source": [
    "##### 3.4.5.1 gender"
   ]
  },
  {
   "cell_type": "code",
   "execution_count": 15,
   "id": "289aca8f-fac7-4303-b1c6-76f11be4f0ba",
   "metadata": {},
   "outputs": [
    {
     "data": {
      "image/png": "[encoded data removed]",
      "text/plain": [
       "<Figure size 720x360 with 2 Axes>"
      ]
     },
     "metadata": {
      "needs_background": "light"
     },
     "output_type": "display_data"
    }
   ],
   "source": [
    "feature_barplot('gender')"
   ]
  },
  {
   "cell_type": "markdown",
   "id": "aec0fda2-5bbf-42f4-a451-210440a0ad51",
   "metadata": {},
   "source": [
    "##### 3.4.5.2 signup_method"
   ]
  },
  {
   "cell_type": "code",
   "execution_count": 16,
   "id": "27408a48-810a-482e-96e7-62d7fc8697b2",
   "metadata": {},
   "outputs": [
    {
     "data": {
      "image/png": "[encoded data removed]",
      "text/plain": [
       "<Figure size 720x360 with 2 Axes>"
      ]
     },
     "metadata": {
      "needs_background": "light"
     },
     "output_type": "display_data"
    }
   ],
   "source": [
    "feature_barplot('signup_method')"
   ]
  },
  {
   "cell_type": "markdown",
   "id": "15830ada-aeb0-4af9-83d2-ce02b92e7586",
   "metadata": {},
   "source": [
    "##### 3.4.5.3 signup_flow"
   ]
  },
  {
   "cell_type": "code",
   "execution_count": 17,
   "id": "bd67feb8-3031-4b51-bb01-3bec84667a3d",
   "metadata": {},
   "outputs": [
    {
     "data": {
      "image/png": "[encoded data removed]",
      "text/plain": [
       "<Figure size 720x360 with 2 Axes>"
      ]
     },
     "metadata": {
      "needs_background": "light"
     },
     "output_type": "display_data"
    }
   ],
   "source": [
    "feature_barplot('signup_flow')"
   ]
  },
  {
   "cell_type": "markdown",
   "id": "0cfc7cde-62aa-40c0-8771-41054be3ab1b",
   "metadata": {},
   "source": [
    "##### 3.4.5.4 language"
   ]
  },
  {
   "cell_type": "code",
   "execution_count": 18,
   "id": "d0a5c0c8-2557-4db4-908f-e15b57a66e61",
   "metadata": {},
   "outputs": [
    {
     "data": {
      "image/png": "[encoded data removed]",
      "text/plain": [
       "<Figure size 720x360 with 2 Axes>"
      ]
     },
     "metadata": {
      "needs_background": "light"
     },
     "output_type": "display_data"
    }
   ],
   "source": [
    "feature_barplot('language')"
   ]
  },
  {
   "cell_type": "markdown",
   "id": "adac4ed1-5b7d-45b5-8e3e-aff530608e33",
   "metadata": {},
   "source": [
    "##### 3.4.5.5 affiliate_channel"
   ]
  },
  {
   "cell_type": "code",
   "execution_count": 19,
   "id": "7f9ef83c-1b76-4d5a-b6fc-e41bc33929f3",
   "metadata": {},
   "outputs": [
    {
     "data": {
      "image/png": "[encoded data removed]",
      "text/plain": [
       "<Figure size 720x360 with 2 Axes>"
      ]
     },
     "metadata": {
      "needs_background": "light"
     },
     "output_type": "display_data"
    }
   ],
   "source": [
    "feature_barplot('affiliate_channel')"
   ]
  },
  {
   "cell_type": "markdown",
   "id": "6c41a050-5320-4e7d-b26d-a2fa045380df",
   "metadata": {},
   "source": [
    "##### 3.4.5.6 first_affiliate_tracked"
   ]
  },
  {
   "cell_type": "code",
   "execution_count": 20,
   "id": "5ec97594-5b4b-4229-869b-6183d7b67ffb",
   "metadata": {},
   "outputs": [
    {
     "data": {
      "image/png": "[encoded data removed]",
      "text/plain": [
       "<Figure size 720x360 with 2 Axes>"
      ]
     },
     "metadata": {
      "needs_background": "light"
     },
     "output_type": "display_data"
    }
   ],
   "source": [
    "feature_barplot('first_affiliate_tracked')"
   ]
  },
  {
   "cell_type": "markdown",
   "id": "20c0d9d3-0688-4165-a05f-1b8415cab471",
   "metadata": {},
   "source": [
    "##### 3.4.5.7 signup_app"
   ]
  },
  {
   "cell_type": "code",
   "execution_count": 21,
   "id": "52347a56-76ab-4bc6-9ac1-ec3338d6adb3",
   "metadata": {},
   "outputs": [
    {
     "data": {
      "image/png": "[encoded data removed]",
      "text/plain": [
       "<Figure size 720x360 with 2 Axes>"
      ]
     },
     "metadata": {
      "needs_background": "light"
     },
     "output_type": "display_data"
    }
   ],
   "source": [
    "feature_barplot('signup_app')"
   ]
  },
  {
   "cell_type": "markdown",
   "id": "15ed0a86-872f-4168-93e7-5b8721e57a15",
   "metadata": {},
   "source": [
    "##### 3.4.5.8 fisrt_device_type"
   ]
  },
  {
   "cell_type": "code",
   "execution_count": 22,
   "id": "811cb41e-f25d-424b-8bb1-edc9bed7c52c",
   "metadata": {},
   "outputs": [
    {
     "data": {
      "image/png": "[encoded data removed]",
      "text/plain": [
       "<Figure size 720x360 with 2 Axes>"
      ]
     },
     "metadata": {
      "needs_background": "light"
     },
     "output_type": "display_data"
    }
   ],
   "source": [
    "feature_barplot('first_device_type')"
   ]
  },
  {
   "cell_type": "markdown",
   "id": "9c160e3c-e90e-4301-ad99-fc9d13aa901b",
   "metadata": {},
   "source": [
    "##### 3.4.5.9 first_browser"
   ]
  },
  {
   "cell_type": "code",
   "execution_count": 23,
   "id": "7ff83869-a0cd-406f-9bbf-30588aad718a",
   "metadata": {},
   "outputs": [
    {
     "data": {
      "image/png": "[encoded data removed]",
      "text/plain": [
       "<Figure size 720x360 with 2 Axes>"
      ]
     },
     "metadata": {
      "needs_background": "light"
     },
     "output_type": "display_data"
    }
   ],
   "source": [
    "feature_barplot('first_browser')"
   ]
  },
  {
   "cell_type": "markdown",
   "id": "37cc1e91-afe0-494a-9c55-e2814f021533",
   "metadata": {},
   "source": [
    "## 3.5 Session csv"
   ]
  },
  {
   "cell_type": "code",
   "execution_count": 24,
   "id": "58b4b731-a025-4eed-8f10-51c2ae625ff2",
   "metadata": {},
   "outputs": [
    {
     "data": {
      "text/html": [
       "<div>\n",
       "<style scoped>\n",
       "    .dataframe tbody tr th:only-of-type {\n",
       "        vertical-align: middle;\n",
       "    }\n",
       "\n",
       "    .dataframe tbody tr th {\n",
       "        vertical-align: top;\n",
       "    }\n",
       "\n",
       "    .dataframe thead th {\n",
       "        text-align: right;\n",
       "    }\n",
       "</style>\n",
       "<table border=\"1\" class=\"dataframe\">\n",
       "  <thead>\n",
       "    <tr style=\"text-align: right;\">\n",
       "      <th></th>\n",
       "      <th>user_id</th>\n",
       "      <th>action</th>\n",
       "      <th>action_type</th>\n",
       "      <th>action_detail</th>\n",
       "      <th>device_type</th>\n",
       "      <th>secs_elapsed</th>\n",
       "    </tr>\n",
       "  </thead>\n",
       "  <tbody>\n",
       "    <tr>\n",
       "      <th>0</th>\n",
       "      <td>d1mm9tcy42</td>\n",
       "      <td>lookup</td>\n",
       "      <td>NaN</td>\n",
       "      <td>NaN</td>\n",
       "      <td>Windows Desktop</td>\n",
       "      <td>319.0</td>\n",
       "    </tr>\n",
       "    <tr>\n",
       "      <th>1</th>\n",
       "      <td>d1mm9tcy42</td>\n",
       "      <td>search_results</td>\n",
       "      <td>click</td>\n",
       "      <td>view_search_results</td>\n",
       "      <td>Windows Desktop</td>\n",
       "      <td>67753.0</td>\n",
       "    </tr>\n",
       "    <tr>\n",
       "      <th>2</th>\n",
       "      <td>d1mm9tcy42</td>\n",
       "      <td>lookup</td>\n",
       "      <td>NaN</td>\n",
       "      <td>NaN</td>\n",
       "      <td>Windows Desktop</td>\n",
       "      <td>301.0</td>\n",
       "    </tr>\n",
       "    <tr>\n",
       "      <th>3</th>\n",
       "      <td>d1mm9tcy42</td>\n",
       "      <td>search_results</td>\n",
       "      <td>click</td>\n",
       "      <td>view_search_results</td>\n",
       "      <td>Windows Desktop</td>\n",
       "      <td>22141.0</td>\n",
       "    </tr>\n",
       "    <tr>\n",
       "      <th>4</th>\n",
       "      <td>d1mm9tcy42</td>\n",
       "      <td>lookup</td>\n",
       "      <td>NaN</td>\n",
       "      <td>NaN</td>\n",
       "      <td>Windows Desktop</td>\n",
       "      <td>435.0</td>\n",
       "    </tr>\n",
       "    <tr>\n",
       "      <th>5</th>\n",
       "      <td>d1mm9tcy42</td>\n",
       "      <td>search_results</td>\n",
       "      <td>click</td>\n",
       "      <td>view_search_results</td>\n",
       "      <td>Windows Desktop</td>\n",
       "      <td>7703.0</td>\n",
       "    </tr>\n",
       "    <tr>\n",
       "      <th>6</th>\n",
       "      <td>d1mm9tcy42</td>\n",
       "      <td>lookup</td>\n",
       "      <td>NaN</td>\n",
       "      <td>NaN</td>\n",
       "      <td>Windows Desktop</td>\n",
       "      <td>115.0</td>\n",
       "    </tr>\n",
       "    <tr>\n",
       "      <th>7</th>\n",
       "      <td>d1mm9tcy42</td>\n",
       "      <td>personalize</td>\n",
       "      <td>data</td>\n",
       "      <td>wishlist_content_update</td>\n",
       "      <td>Windows Desktop</td>\n",
       "      <td>831.0</td>\n",
       "    </tr>\n",
       "    <tr>\n",
       "      <th>8</th>\n",
       "      <td>d1mm9tcy42</td>\n",
       "      <td>index</td>\n",
       "      <td>view</td>\n",
       "      <td>view_search_results</td>\n",
       "      <td>Windows Desktop</td>\n",
       "      <td>20842.0</td>\n",
       "    </tr>\n",
       "    <tr>\n",
       "      <th>9</th>\n",
       "      <td>d1mm9tcy42</td>\n",
       "      <td>lookup</td>\n",
       "      <td>NaN</td>\n",
       "      <td>NaN</td>\n",
       "      <td>Windows Desktop</td>\n",
       "      <td>683.0</td>\n",
       "    </tr>\n",
       "  </tbody>\n",
       "</table>\n",
       "</div>"
      ],
      "text/plain": [
       "      user_id          action action_type            action_detail  \\\n",
       "0  d1mm9tcy42          lookup         NaN                      NaN   \n",
       "1  d1mm9tcy42  search_results       click      view_search_results   \n",
       "2  d1mm9tcy42          lookup         NaN                      NaN   \n",
       "3  d1mm9tcy42  search_results       click      view_search_results   \n",
       "4  d1mm9tcy42          lookup         NaN                      NaN   \n",
       "5  d1mm9tcy42  search_results       click      view_search_results   \n",
       "6  d1mm9tcy42          lookup         NaN                      NaN   \n",
       "7  d1mm9tcy42     personalize        data  wishlist_content_update   \n",
       "8  d1mm9tcy42           index        view      view_search_results   \n",
       "9  d1mm9tcy42          lookup         NaN                      NaN   \n",
       "\n",
       "       device_type  secs_elapsed  \n",
       "0  Windows Desktop         319.0  \n",
       "1  Windows Desktop       67753.0  \n",
       "2  Windows Desktop         301.0  \n",
       "3  Windows Desktop       22141.0  \n",
       "4  Windows Desktop         435.0  \n",
       "5  Windows Desktop        7703.0  \n",
       "6  Windows Desktop         115.0  \n",
       "7  Windows Desktop         831.0  \n",
       "8  Windows Desktop       20842.0  \n",
       "9  Windows Desktop         683.0  "
      ]
     },
     "execution_count": 24,
     "metadata": {},
     "output_type": "execute_result"
    }
   ],
   "source": [
    "df_sessions = pd.read_csv('./data/sessions.csv')\n",
    "df_sessions.head(10)"
   ]
  },
  {
   "cell_type": "code",
   "execution_count": 25,
   "id": "3aa60bb0-fc31-4a56-9795-25fd5b93993b",
   "metadata": {},
   "outputs": [],
   "source": [
    "# change user_id to id in order to join two tables. \n",
    "df_sessions.rename(columns = {'user_id':'id'}, inplace = True)"
   ]
  },
  {
   "cell_type": "code",
   "execution_count": 26,
   "id": "e7a9dbef-a7ed-4471-90e0-306264db81ef",
   "metadata": {},
   "outputs": [
    {
     "name": "stdout",
     "output_type": "stream",
     "text": [
      "<class 'pandas.core.frame.DataFrame'>\n",
      "RangeIndex: 10567737 entries, 0 to 10567736\n",
      "Data columns (total 6 columns):\n",
      " #   Column         Dtype  \n",
      "---  ------         -----  \n",
      " 0   id             object \n",
      " 1   action         object \n",
      " 2   action_type    object \n",
      " 3   action_detail  object \n",
      " 4   device_type    object \n",
      " 5   secs_elapsed   float64\n",
      "dtypes: float64(1), object(5)\n",
      "memory usage: 483.8+ MB\n"
     ]
    }
   ],
   "source": [
    "df_sessions.info()"
   ]
  },
  {
   "cell_type": "code",
   "execution_count": 27,
   "id": "ebf51fd8-0a97-4613-a916-ac455b0aff5c",
   "metadata": {},
   "outputs": [
    {
     "data": {
      "text/plain": [
       "id                 34496\n",
       "action             79626\n",
       "action_type      1126204\n",
       "action_detail    1126204\n",
       "device_type            0\n",
       "secs_elapsed      136031\n",
       "dtype: int64"
      ]
     },
     "execution_count": 27,
     "metadata": {},
     "output_type": "execute_result"
    }
   ],
   "source": [
    "# check the missing value\n",
    "df_sessions.isnull().sum()"
   ]
  },
  {
   "cell_type": "code",
   "execution_count": 28,
   "id": "ac0dcad7-2a6e-4338-be56-63cc525c1077",
   "metadata": {},
   "outputs": [
    {
     "data": {
      "text/plain": [
       "id                34496\n",
       "action                0\n",
       "action_type           0\n",
       "action_detail         0\n",
       "device_type           0\n",
       "secs_elapsed     136031\n",
       "dtype: int64"
      ]
     },
     "execution_count": 28,
     "metadata": {},
     "output_type": "execute_result"
    }
   ],
   "source": [
    "# filling the missing values\n",
    "df_sessions.action = df_sessions.action.fillna('NAN')\n",
    "df_sessions.action_type = df_sessions.action_type.fillna('NAN')\n",
    "df_sessions.action_detail = df_sessions.action_detail.fillna('NAN')\n",
    "df_sessions.isnull().sum()\n"
   ]
  },
  {
   "cell_type": "markdown",
   "id": "7fdafb31-9ade-4e18-a838-1f1a207fae98",
   "metadata": {},
   "source": [
    "### 3.5.1 Feature Extration"
   ]
  },
  {
   "cell_type": "code",
   "execution_count": 29,
   "id": "8698425d-3892-4c4b-9ffb-a981f1c0a654",
   "metadata": {},
   "outputs": [
    {
     "data": {
      "text/plain": [
       "360"
      ]
     },
     "execution_count": 29,
     "metadata": {},
     "output_type": "execute_result"
    }
   ],
   "source": [
    "# check the number of unique values of action \n",
    "df_sessions.action.nunique()"
   ]
  },
  {
   "cell_type": "code",
   "execution_count": 30,
   "id": "af21209f-89d5-47cc-b996-64ab010b0b3e",
   "metadata": {},
   "outputs": [
    {
     "data": {
      "text/plain": [
       "1"
      ]
     },
     "execution_count": 30,
     "metadata": {},
     "output_type": "execute_result"
    }
   ],
   "source": [
    "df_sessions.action.value_counts().min()"
   ]
  },
  {
   "cell_type": "markdown",
   "id": "64c373ad-4ee1-484a-9026-332dc70b17b6",
   "metadata": {},
   "source": [
    "The minimum value is 1 and we can group the smaller number to 'other'.\\\n",
    "For each action, if the occurrence is less than 100, it can be grouped into 'other"
   ]
  },
  {
   "cell_type": "code",
   "execution_count": 31,
   "id": "bd0562b9-f1b4-46dc-ab11-949a97af9c9e",
   "metadata": {},
   "outputs": [],
   "source": [
    "#Action values with low frequency are changed to 'OTHER'\n",
    "act_freq = 100  #Threshold of frequency\n",
    "act = dict(zip(*np.unique(df_sessions.action, return_counts=True)))\n",
    "df_sessions.action = df_sessions.action.apply(lambda x: 'OTHER' if act[x] < act_freq else x)\n",
    "#np.unique(df_sessions.action, return_counts=True) 取以数组形式返回非重复的action值和它的数量\n",
    "#zip（*（a,b））a,b种元素一一对应，返回zip object\n"
   ]
  },
  {
   "cell_type": "code",
   "execution_count": null,
   "id": "3e784f87-9eb0-4758-8cc0-52776e8bb5d6",
   "metadata": {},
   "outputs": [],
   "source": []
  }
 ],
 "metadata": {
  "kernelspec": {
   "display_name": "Python [conda env:ada] *",
   "language": "python",
   "name": "conda-env-ada-py"
  },
  "language_info": {
   "codemirror_mode": {
    "name": "ipython",
    "version": 3
   },
   "file_extension": ".py",
   "mimetype": "text/x-python",
   "name": "python",
   "nbconvert_exporter": "python",
   "pygments_lexer": "ipython3",
   "version": "3.8.12"
  }
 },
 "nbformat": 4,
 "nbformat_minor": 5
}
